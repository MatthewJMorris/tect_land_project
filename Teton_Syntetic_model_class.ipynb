{
 "cells": [
  {
   "cell_type": "markdown",
   "metadata": {},
   "source": [
    "## Tectonics and Landscape Evolution Class part 1\n",
    "\n"
   ]
  },
  {
   "cell_type": "markdown",
   "metadata": {},
   "source": [
    "#### We are going to use our field work measurements to create our model from the Teton Fault"
   ]
  },
  {
   "cell_type": "code",
   "execution_count": 46,
   "metadata": {},
   "outputs": [],
   "source": [
    "#Importing required functions \n",
    "\n",
    "import pandas as pd\n",
    "from landlab import RasterModelGrid, imshow_grid\n",
    "from landlab.components import StreamPowerEroder, LinearDiffuser, FlowAccumulator,NormalFault\n",
    "import numpy as np\n",
    "import matplotlib.pyplot as plt\n",
    "from FieldWork_class import FieldWork"
   ]
  },
  {
   "cell_type": "code",
   "execution_count": 47,
   "metadata": {},
   "outputs": [
    {
     "name": "stdout",
     "output_type": "stream",
     "text": [
      "The average strike is 10.0\n",
      "The average dip is 58.904761904761905\n"
     ]
    }
   ],
   "source": [
    "#Import you field work data\n",
    "data = pd.read_csv('/Users/poliveira/Projects_PhD/tect_land_project/field_work_teton_park.csv')\n",
    "data\n",
    "\n",
    "#Calculate parameters for your model\n",
    "fw = FieldWork(data)\n",
    "result = fw.calculate_dip_strike()\n",
    "\n",
    "#Set the size of your area\n",
    "x_size = 15000 # in meters\n",
    "y_size  = 11250 # in meters\n",
    "dx = 30\n",
    "dy = 50\n",
    "cols = 500\n",
    "rows = 225\n",
    "\n",
    "#rows,cols = fw.calculate_grid_size(x_size,y_size,dx,dy) \n",
    "\n",
    "#create basin_mg\n",
    "basin_mg = RasterModelGrid((225,500),xy_spacing=(30,50))\n",
    "\n",
    "# Add elevation field\n",
    "z = basin_mg.add_zeros('topographic__elevation', at='node')\n",
    "z += np.random.rand(z.size)\n",
    "\n",
    "# Set boundary conditions to match Teton,\n",
    "# we are seeting the outlet in the middle right of the model\n",
    "# x_coordinate = (dx*cols)-dx\n",
    "# y_coordinate = ((dy*rows)-dy)/2\n",
    "\n",
    "# print(x_coordinate,y_coordinate)        \n",
    "\n",
    "#node_id = basin_mg.find_nearest_node((x_coordinate,y_coordinate)) # (x-coordinate,y-coordinate)\n",
    "\n",
    "#basin_mg.set_watershed_boundary_condition_outlet_id(55000, z)\n",
    "\n",
    "basin_mg.set_closed_boundaries_at_grid_edges(False,True,False,True)\n",
    "# imshow_grid(basin_mg, 'topographic__elevation')\n",
    "# plt.show()\n"
   ]
  },
  {
   "cell_type": "code",
   "execution_count": 48,
   "metadata": {},
   "outputs": [],
   "source": [
    "## Initialise the landscape and parameters\n",
    "\n",
    "# Dictionary for parameter values\n",
    "params  = {'stream_power': {'K_sp': 5E-6, \n",
    "                        'n_sp': 1, \n",
    "                        'm_sp': 0.45}, \n",
    "                        'diffuser': {'D_diff': 0.001}}\n",
    "\n",
    "K_sp = params['stream_power']['K_sp']\n",
    "m_sp = params['stream_power']['m_sp']\n",
    "n_sp = params['stream_power']['n_sp']\n",
    "\n",
    "## Forward model evolution\n",
    "\n",
    "n_steps = 100001\n",
    "dt = 1000  # timestep in years\n",
    "\n",
    "U = np.ones(basin_mg.number_of_nodes)\n",
    "uplift_rate = 0.00005 #in meters/years\n",
    "\n",
    "fa = FlowAccumulator(basin_mg, flow_director='D8')\n",
    "ld = LinearDiffuser(basin_mg, linear_diffusivity=params['diffuser']['D_diff'])\n",
    "sp = StreamPowerEroder(basin_mg, K_sp=K_sp, m_sp=m_sp, n_sp=n_sp)\n",
    "\n",
    "uplift_per_steps = dt * U"
   ]
  },
  {
   "cell_type": "code",
   "execution_count": 49,
   "metadata": {},
   "outputs": [
    {
     "data": {
      "image/png": "[encoded data removed]",
      "text/plain": [
       "<Figure size 640x480 with 2 Axes>"
      ]
     },
     "metadata": {},
     "output_type": "display_data"
    },
    {
     "name": "stdout",
     "output_type": "stream",
     "text": [
      "0\n"
     ]
    },
    {
     "ename": "KeyboardInterrupt",
     "evalue": "",
     "output_type": "error",
     "traceback": [
      "\u001b[0;31m---------------------------------------------------------------------------\u001b[0m",
      "\u001b[0;31mKeyboardInterrupt\u001b[0m                         Traceback (most recent call last)",
      "Cell \u001b[0;32mIn[49], line 4\u001b[0m\n\u001b[1;32m      1\u001b[0m \u001b[38;5;28;01mfor\u001b[39;00m i \u001b[38;5;129;01min\u001b[39;00m \u001b[38;5;28mrange\u001b[39m(n_steps):\n\u001b[1;32m      3\u001b[0m     basin_mg\u001b[38;5;241m.\u001b[39mat_node[\u001b[38;5;124m'\u001b[39m\u001b[38;5;124mtopographic__elevation\u001b[39m\u001b[38;5;124m'\u001b[39m][basin_mg\u001b[38;5;241m.\u001b[39mcore_nodes] \u001b[38;5;241m+\u001b[39m\u001b[38;5;241m=\u001b[39m uplift_per_steps[basin_mg\u001b[38;5;241m.\u001b[39mcore_nodes]\n\u001b[0;32m----> 4\u001b[0m     \u001b[43mfa\u001b[49m\u001b[38;5;241;43m.\u001b[39;49m\u001b[43mrun_one_step\u001b[49m\u001b[43m(\u001b[49m\u001b[43m)\u001b[49m\n\u001b[1;32m      5\u001b[0m     sp\u001b[38;5;241m.\u001b[39mrun_one_step(dt\u001b[38;5;241m=\u001b[39mdt)\n\u001b[1;32m      6\u001b[0m     ld\u001b[38;5;241m.\u001b[39mrun_one_step(dt)\n",
      "File \u001b[0;32m/opt/anaconda3/envs/pythonProject/lib/python3.11/site-packages/landlab/components/flow_accum/flow_accumulator.py:1267\u001b[0m, in \u001b[0;36mFlowAccumulator.run_one_step\u001b[0;34m(self)\u001b[0m\n\u001b[1;32m   1250\u001b[0m \u001b[38;5;28;01mdef\u001b[39;00m \u001b[38;5;21mrun_one_step\u001b[39m(\u001b[38;5;28mself\u001b[39m):\n\u001b[1;32m   1251\u001b[0m \u001b[38;5;250m    \u001b[39m\u001b[38;5;124;03m\"\"\"Accumulate flow and save to the model grid.\u001b[39;00m\n\u001b[1;32m   1252\u001b[0m \n\u001b[1;32m   1253\u001b[0m \u001b[38;5;124;03m    1. Flow directions are updated. This incluldes checking for updated\u001b[39;00m\n\u001b[0;32m   (...)\u001b[0m\n\u001b[1;32m   1265\u001b[0m \u001b[38;5;124;03m    the flow director or the depression finder.\u001b[39;00m\n\u001b[1;32m   1266\u001b[0m \u001b[38;5;124;03m    \"\"\"\u001b[39;00m\n\u001b[0;32m-> 1267\u001b[0m     \u001b[38;5;28;43mself\u001b[39;49m\u001b[38;5;241;43m.\u001b[39;49m\u001b[43maccumulate_flow\u001b[49m\u001b[43m(\u001b[49m\u001b[43m)\u001b[49m\n",
      "File \u001b[0;32m/opt/anaconda3/envs/pythonProject/lib/python3.11/site-packages/landlab/components/flow_accum/flow_accumulator.py:1194\u001b[0m, in \u001b[0;36mFlowAccumulator.accumulate_flow\u001b[0;34m(self, update_flow_director, update_depression_finder)\u001b[0m\n\u001b[1;32m   1192\u001b[0m delta \u001b[38;5;241m=\u001b[39m as_id_array(flow_accum_bw\u001b[38;5;241m.\u001b[39m_make_delta_array(nd))\n\u001b[1;32m   1193\u001b[0m D \u001b[38;5;241m=\u001b[39m as_id_array(flow_accum_bw\u001b[38;5;241m.\u001b[39m_make_array_of_donors(r, delta))\n\u001b[0;32m-> 1194\u001b[0m s \u001b[38;5;241m=\u001b[39m as_id_array(\u001b[43mflow_accum_bw\u001b[49m\u001b[38;5;241;43m.\u001b[39;49m\u001b[43mmake_ordered_node_array\u001b[49m\u001b[43m(\u001b[49m\u001b[43mr\u001b[49m\u001b[43m,\u001b[49m\u001b[43m \u001b[49m\u001b[43mnd\u001b[49m\u001b[43m,\u001b[49m\u001b[43m \u001b[49m\u001b[43mdelta\u001b[49m\u001b[43m,\u001b[49m\u001b[43m \u001b[49m\u001b[43mD\u001b[49m\u001b[43m)\u001b[49m)\n\u001b[1;32m   1196\u001b[0m \u001b[38;5;66;03m# put these in grid so that depression finder can use it.\u001b[39;00m\n\u001b[1;32m   1197\u001b[0m \u001b[38;5;66;03m# store the generated data in the grid\u001b[39;00m\n\u001b[1;32m   1198\u001b[0m \u001b[38;5;28mself\u001b[39m\u001b[38;5;241m.\u001b[39m_grid\u001b[38;5;241m.\u001b[39mat_node[\u001b[38;5;124m\"\u001b[39m\u001b[38;5;124mflow__data_structure_delta\u001b[39m\u001b[38;5;124m\"\u001b[39m][:] \u001b[38;5;241m=\u001b[39m as_id_array(delta[\u001b[38;5;241m1\u001b[39m:])\n",
      "File \u001b[0;32m/opt/anaconda3/envs/pythonProject/lib/python3.11/site-packages/landlab/components/flow_accum/flow_accum_bw.py:203\u001b[0m, in \u001b[0;36mmake_ordered_node_array\u001b[0;34m(receiver_nodes, nd, delta, D)\u001b[0m\n\u001b[1;32m    201\u001b[0m add_it \u001b[38;5;241m=\u001b[39m dstack\u001b[38;5;241m.\u001b[39madd_to_stack\n\u001b[1;32m    202\u001b[0m \u001b[38;5;28;01mfor\u001b[39;00m k \u001b[38;5;129;01min\u001b[39;00m baselevel_nodes:\n\u001b[0;32m--> 203\u001b[0m     \u001b[43madd_it\u001b[49m\u001b[43m(\u001b[49m\u001b[43mk\u001b[49m\u001b[43m)\u001b[49m  \u001b[38;5;66;03m# don't think this is a bottleneck, so no C++\u001b[39;00m\n\u001b[1;32m    205\u001b[0m \u001b[38;5;28;01mreturn\u001b[39;00m dstack\u001b[38;5;241m.\u001b[39ms\n",
      "File \u001b[0;32m/opt/anaconda3/envs/pythonProject/lib/python3.11/site-packages/landlab/components/flow_accum/flow_accum_bw.py:70\u001b[0m, in \u001b[0;36m_DrainageStack.add_to_stack\u001b[0;34m(self, node)\u001b[0m\n\u001b[1;32m     56\u001b[0m \u001b[38;5;250m\u001b[39m\u001b[38;5;124;03m\"\"\"Adds *node* to the stack and increments the current index (j).\u001b[39;00m\n\u001b[1;32m     57\u001b[0m \n\u001b[1;32m     58\u001b[0m \u001b[38;5;124;03mExamples\u001b[39;00m\n\u001b[0;32m   (...)\u001b[0m\n\u001b[1;32m     67\u001b[0m \u001b[38;5;124;03marray([4, 1, 0, 2, 5, 6, 3, 8, 7, 9])\u001b[39;00m\n\u001b[1;32m     68\u001b[0m \u001b[38;5;124;03m\"\"\"\u001b[39;00m\n\u001b[1;32m     69\u001b[0m \u001b[38;5;66;03m# we invoke cython here to attempt to suppress Python's RecursionLimit\u001b[39;00m\n\u001b[0;32m---> 70\u001b[0m \u001b[38;5;28mself\u001b[39m\u001b[38;5;241m.\u001b[39mj \u001b[38;5;241m=\u001b[39m \u001b[43m_add_to_stack\u001b[49m\u001b[43m(\u001b[49m\u001b[43mnode\u001b[49m\u001b[43m,\u001b[49m\u001b[43m \u001b[49m\u001b[38;5;28;43mself\u001b[39;49m\u001b[38;5;241;43m.\u001b[39;49m\u001b[43mj\u001b[49m\u001b[43m,\u001b[49m\u001b[43m \u001b[49m\u001b[38;5;28;43mself\u001b[39;49m\u001b[38;5;241;43m.\u001b[39;49m\u001b[43ms\u001b[49m\u001b[43m,\u001b[49m\u001b[43m \u001b[49m\u001b[38;5;28;43mself\u001b[39;49m\u001b[38;5;241;43m.\u001b[39;49m\u001b[43mdelta\u001b[49m\u001b[43m,\u001b[49m\u001b[43m \u001b[49m\u001b[38;5;28;43mself\u001b[39;49m\u001b[38;5;241;43m.\u001b[39;49m\u001b[43mD\u001b[49m\u001b[43m)\u001b[49m\n",
      "\u001b[0;31mKeyboardInterrupt\u001b[0m: "
     ]
    }
   ],
   "source": [
    "for i in range(n_steps):\n",
    "\n",
    "    basin_mg.at_node['topographic__elevation'][basin_mg.core_nodes] += uplift_per_steps[basin_mg.core_nodes]\n",
    "    fa.run_one_step()\n",
    "    sp.run_one_step(dt=dt)\n",
    "    ld.run_one_step(dt)\n",
    "\n",
    "\n",
    "    if i%100 == 0:\n",
    "        imshow_grid(basin_mg, 'topographic__elevation')\n",
    "        plt.show()\n",
    "        print(i)"
   ]
  },
  {
   "cell_type": "code",
   "execution_count": null,
   "metadata": {},
   "outputs": [],
   "source": []
  },
  {
   "cell_type": "code",
   "execution_count": null,
   "metadata": {},
   "outputs": [],
   "source": []
  }
 ],
 "metadata": {
  "kernelspec": {
   "display_name": "pythonProject",
   "language": "python",
   "name": "python3"
  },
  "language_info": {
   "codemirror_mode": {
    "name": "ipython",
    "version": 3
   },
   "file_extension": ".py",
   "mimetype": "text/x-python",
   "name": "python",
   "nbconvert_exporter": "python",
   "pygments_lexer": "ipython3",
   "version": "3.11.0"
  }
 },
 "nbformat": 4,
 "nbformat_minor": 2
}
