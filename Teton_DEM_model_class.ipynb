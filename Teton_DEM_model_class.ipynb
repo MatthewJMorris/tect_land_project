{
 "cells": [
  {
   "cell_type": "markdown",
   "metadata": {},
   "source": [
    "# Tectonic and Landscape Evolution Class"
   ]
  },
  {
   "cell_type": "code",
   "execution_count": null,
   "metadata": {},
   "outputs": [],
   "source": [
    "#importing necessary components\n",
    "import numpy as np\n",
    "from landlab import RasterModelGrid, imshow_grid\n",
    "import matplotlib as plt\n",
    "from bmi_topography import Topography\n"
   ]
  },
  {
   "cell_type": "markdown",
   "metadata": {},
   "source": []
  },
  {
   "cell_type": "code",
   "execution_count": null,
   "metadata": {},
   "outputs": [],
   "source": [
    "# importing DEM using lat,long from OpenTopo website\n",
    "\n",
    "the_grand_teton = Topography(north=43.811261, #44.247929,\n",
    "                             south=43.633050, #43.855, #44.019297,\n",
    "                             east=-110.661373, #-110.438699,\n",
    "                             west=-111.082262, #110.935236,\n",
    "                             output_format=\"GTiff\",\n",
    "                             dem_type=\"SRTMGL3\")\n",
    "\n",
    "the_grand_teton_DEM = the_grand_teton.load()\n",
    "z = np.flipud(the_grand_teton_DEM.values.squeeze())\n",
    "\n",
    "grid = RasterModelGrid(z.shape, xy_spacing=(30, 50)) #come back to this bit\n",
    "grid.at_node[\"topographic__elevation\"] = z\n",
    "grid.imshow(\"topographic__elevation\", cmap=\"terrain\", vmin=0)"
   ]
  },
  {
   "cell_type": "markdown",
   "metadata": {},
   "source": []
  }
 ],
 "metadata": {
  "kernelspec": {
   "display_name": "pythonProject",
   "language": "python",
   "name": "python3"
  },
  "language_info": {
   "name": "python",
   "version": "3.11.0"
  }
 },
 "nbformat": 4,
 "nbformat_minor": 2
}
