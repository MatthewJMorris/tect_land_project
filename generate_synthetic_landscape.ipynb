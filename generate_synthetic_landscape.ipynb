{
 "cells": [
  {
   "cell_type": "markdown",
   "id": "4abc4337-d4e8-447b-b016-793b64f11157",
   "metadata": {},
   "source": [
    "# Framework for initialising a synthetic landscape\n",
    "All values arbitrary for now"
   ]
  },
  {
   "cell_type": "code",
   "execution_count": 1,
   "id": "deb0fe33-33f8-45f3-966c-1f5728c211db",
   "metadata": {},
   "outputs": [],
   "source": [
    "from landlab import RasterModelGrid\n",
    "from landlab.components import StreamPowerEroder, LinearDiffuser, FlowAccumulator\n",
    "import numpy as np"
   ]
  },
  {
   "cell_type": "markdown",
   "id": "474a71d3-5c04-4fd3-80e3-485aa8d802f6",
   "metadata": {},
   "source": [
    "## Initialise the landscape"
   ]
  },
  {
   "cell_type": "code",
   "execution_count": 14,
   "id": "9f97d5fa-6d7a-43ce-a280-697817343dfd",
   "metadata": {},
   "outputs": [],
   "source": [
    "# Set grid values\n",
    "nx = 100 # x distance of landscape (change this to suit Teton)\n",
    "ny = 100  # y distance of landscape (change this to suit Teton)\n",
    "dx = 30.  # x resolution (m)\n",
    "dy = 30.  # y resolution (m)\n",
    "\n",
    "# Create grid\n",
    "grid = RasterModelGrid((ny, nx), xy_spacing=(dx, dy))\n",
    "\n",
    "# Explicitly set boundary conditions (right, top, left, bottom)\n",
    "grid.set_closed_boundaries_at_grid_edges(False, False, False, False)\n",
    "\n",
    "# Add topographic elevation field\n",
    "elev = grid.add_zeros('topographic__elevation', at='node')"
   ]
  },
  {
   "cell_type": "markdown",
   "id": "a31332a6-e871-405a-9e3a-a678ab7830c7",
   "metadata": {},
   "source": [
    "## A function for forward model evolution\n",
    "* Initialise components\n",
    "* Set parameter values\n",
    "* "
   ]
  },
  {
   "cell_type": "code",
   "execution_count": 15,
   "id": "b3d8aa31-05da-408b-8117-e24452baecb3",
   "metadata": {},
   "outputs": [],
   "source": [
    "# Dictionary for parameter values\n",
    "component_parameters = {'stream_power': {'K_sp': 0, 'n_sp': 1, 'm_sp': 0.5}, 'diffuser': {'D_diff': 0.001}}\n",
    "K_sp = component_parameters['stream_power']['K_sp']\n",
    "m_sp = component_parameters['stream_power']['m_sp']\n",
    "n_sp = component_parameters['stream_power']['n_sp']\n",
    "\n",
    "# Forward model parameters\n",
    "total_runtime = 1000  # kyr\n",
    "dt = 10  # timestep, kyr"
   ]
  },
  {
   "cell_type": "code",
   "execution_count": 18,
   "id": "c8fe1924-3fa3-45df-8324-a10770c44d02",
   "metadata": {},
   "outputs": [],
   "source": [
    "# Initialise components\n",
    "fr = FlowAccumulator(grid, flow_director='D8')\n",
    "diff = LinearDiffuser(grid, linear_diffusivity=component_parameters['diffuser']['D_diff'])\n",
    "sp = StreamPowerEroder(grid, K_sp=K_sp, m_sp=m_sp, n_sp=n_sp)"
   ]
  },
  {
   "cell_type": "code",
   "execution_count": null,
   "id": "3148055f-0445-4767-9150-42a4565ec1d0",
   "metadata": {},
   "outputs": [],
   "source": []
  }
 ],
 "metadata": {
  "kernelspec": {
   "display_name": "Ivy",
   "language": "python",
   "name": "ivy"
  },
  "language_info": {
   "codemirror_mode": {
    "name": "ipython",
    "version": 3
   },
   "file_extension": ".py",
   "mimetype": "text/x-python",
   "name": "python",
   "nbconvert_exporter": "python",
   "pygments_lexer": "ipython3",
   "version": "3.11.9"
  }
 },
 "nbformat": 4,
 "nbformat_minor": 5
}
