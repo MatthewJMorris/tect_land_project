{
 "cells": [
  {
   "cell_type": "markdown",
   "id": "4abc4337-d4e8-447b-b016-793b64f11157",
   "metadata": {},
   "source": [
    "# Notebook for initialising a synthetic landscape"
   ]
  },
  {
   "cell_type": "code",
   "execution_count": 1,
   "id": "deb0fe33-33f8-45f3-966c-1f5728c211db",
   "metadata": {},
   "outputs": [],
   "source": [
    "from landlab import RasterModelGrid\n",
    "from landlab.components import StreamPowerEroder, LinearDiffuser, FlowAccumulator\n",
    "import numpy as np"
   ]
  },
  {
   "cell_type": "markdown",
   "id": "474a71d3-5c04-4fd3-80e3-485aa8d802f6",
   "metadata": {},
   "source": [
    "## Initialise the landscape"
   ]
  },
  {
   "cell_type": "code",
   "execution_count": 3,
   "id": "9f97d5fa-6d7a-43ce-a280-697817343dfd",
   "metadata": {},
   "outputs": [],
   "source": [
    "# Set grid values\n",
    "nx = 100 # x distance of landscape (change this to suit Teton)\n",
    "ny = 100  # y distance of landscape (change this to suit Teton)\n",
    "dx = 30.  # x resolution (m)\n",
    "dy = 30.  # y resolution (m)\n",
    "\n",
    "# Create grid\n",
    "grid = RasterModelGrid((ny, nx), xy_spacing=(dx, dy))\n",
    "\n",
    "# Explicitly set boundary conditions (right, top, left, bottom)\n",
    "grid.set_closed_boundaries_at_grid_edges(False, False, False, False)"
   ]
  },
  {
   "cell_type": "code",
   "execution_count": null,
   "id": "28d4f76e-6b14-4ece-90d4-0edbcc0764e4",
   "metadata": {},
   "outputs": [],
   "source": []
  }
 ],
 "metadata": {
  "kernelspec": {
   "display_name": "Ivy",
   "language": "python",
   "name": "ivy"
  },
  "language_info": {
   "codemirror_mode": {
    "name": "ipython",
    "version": 3
   },
   "file_extension": ".py",
   "mimetype": "text/x-python",
   "name": "python",
   "nbconvert_exporter": "python",
   "pygments_lexer": "ipython3",
   "version": "3.11.9"
  }
 },
 "nbformat": 4,
 "nbformat_minor": 5
}
