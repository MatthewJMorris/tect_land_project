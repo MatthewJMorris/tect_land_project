{
 "cells": [
  {
   "cell_type": "markdown",
   "metadata": {},
   "source": [
    "## Tectonics and Landscape Evolution Project\n",
    "\n"
   ]
  },
  {
   "cell_type": "code",
   "execution_count": 6,
   "metadata": {},
   "outputs": [
    {
     "name": "stdout",
     "output_type": "stream",
     "text": [
      "The average strike is 95.0\n",
      "The average dip is 8.0\n",
      "Your area have 1000x1000, the grid has 10.0 rows and 10.0 columns\n"
     ]
    },
    {
     "ename": "NameError",
     "evalue": "name 'rows' is not defined",
     "output_type": "error",
     "traceback": [
      "\u001b[0;31m---------------------------------------------------------------------------\u001b[0m",
      "\u001b[0;31mNameError\u001b[0m                                 Traceback (most recent call last)",
      "Cell \u001b[0;32mIn[6], line 22\u001b[0m\n\u001b[1;32m     18\u001b[0m cell_resolution \u001b[38;5;241m=\u001b[39m \u001b[38;5;241m100\u001b[39m\n\u001b[1;32m     20\u001b[0m result_2 \u001b[38;5;241m=\u001b[39m fw\u001b[38;5;241m.\u001b[39mcalculate_grid_size(w,l,cell_resolution) \n\u001b[0;32m---> 22\u001b[0m my_grid \u001b[38;5;241m=\u001b[39m RasterModelGrid(\u001b[43mrows\u001b[49m,cols,cell_resolution)\n",
      "\u001b[0;31mNameError\u001b[0m: name 'rows' is not defined"
     ]
    }
   ],
   "source": [
    "from landlab import RasterModelGrid \n",
    "\n",
    "import pandas as pd\n",
    "import numpy as np\n",
    "from FieldWork_class import FieldWork\n",
    "\n",
    "#Import you field work data\n",
    "data = pd.read_csv('/Users/poliveira/Projects_PhD/tect_land_project/field_work_tatun_park.csv')\n",
    "data\n",
    "\n",
    "#Calculate parameters for your model\n",
    "fw = FieldWork(data)\n",
    "result = fw.calculate_dip_strike()\n",
    "\n",
    "#Set the size of your area\n",
    "w = 1000\n",
    "l  = 1000\n",
    "cell_resolution = 100\n",
    "\n",
    "result_2 = fw.calculate_grid_size(w,l,cell_resolution) \n",
    "\n",
    "my_grid = RasterModelGrid(rows,cols,cell_resolution)\n",
    "\n",
    "\n"
   ]
  }
 ],
 "metadata": {
  "kernelspec": {
   "display_name": "pythonProject",
   "language": "python",
   "name": "python3"
  },
  "language_info": {
   "codemirror_mode": {
    "name": "ipython",
    "version": 3
   },
   "file_extension": ".py",
   "mimetype": "text/x-python",
   "name": "python",
   "nbconvert_exporter": "python",
   "pygments_lexer": "ipython3",
   "version": "3.11.0"
  }
 },
 "nbformat": 4,
 "nbformat_minor": 2
}
