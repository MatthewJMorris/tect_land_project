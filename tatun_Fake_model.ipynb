{
 "cells": [
  {
   "cell_type": "markdown",
   "metadata": {},
   "source": [
    "## Tectonics and Landscape Evolution Project\n",
    "\n"
   ]
  },
  {
   "cell_type": "code",
   "execution_count": 12,
   "metadata": {},
   "outputs": [
    {
     "name": "stdout",
     "output_type": "stream",
     "text": [
      "The average strike is 10.0\n",
      "The average dip is 58.904761904761905\n",
      "Your area have 1000x1000, the grid has 33.333333333333336 rows and 33.333333333333336 columns\n"
     ]
    }
   ],
   "source": [
    "from landlab import RasterModelGrid \n",
    "\n",
    "import pandas as pd\n",
    "import numpy as np\n",
    "from FieldWork_class import FieldWork\n",
    "\n",
    "#Import you field work data\n",
    "data = pd.read_csv('/Users/poliveira/Projects_PhD/tect_land_project/field_work_tatun_park.csv')\n",
    "data\n",
    "\n",
    "#Calculate parameters for your model\n",
    "fw = FieldWork(data)\n",
    "result = fw.calculate_dip_strike()\n",
    "\n",
    "#Set the size of your area\n",
    "w = 1000\n",
    "l  = 1000\n",
    "cell_resolution = 30\n",
    "\n",
    "rows,cols = fw.calculate_grid_size(w,l,cell_resolution) \n",
    "\n",
    "#create grid\n",
    "my_grid = RasterModelGrid((rows,cols),10)\n",
    "\n",
    "\n",
    "#####run to steady state- fake model \n",
    "\n",
    "k_sp = 5E-5\n",
    "\n",
    "uplift = 5e-5\n",
    "\n"
   ]
  }
 ],
 "metadata": {
  "kernelspec": {
   "display_name": "pythonProject",
   "language": "python",
   "name": "python3"
  },
  "language_info": {
   "codemirror_mode": {
    "name": "ipython",
    "version": 3
   },
   "file_extension": ".py",
   "mimetype": "text/x-python",
   "name": "python",
   "nbconvert_exporter": "python",
   "pygments_lexer": "ipython3",
   "version": "3.11.0"
  }
 },
 "nbformat": 4,
 "nbformat_minor": 2
}
